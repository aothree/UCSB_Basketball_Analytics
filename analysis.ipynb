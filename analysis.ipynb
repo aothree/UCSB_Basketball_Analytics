{
 "cells": [
  {
   "cell_type": "code",
   "execution_count": 1,
   "id": "52ddb5ad-fe8b-468d-81b6-df6dd3d35ffa",
   "metadata": {},
   "outputs": [],
   "source": [
    "import pandas as pd\n",
    "import numpy as np\n",
    "import seaborn as sns\n",
    "import matplotlib.pyplot as plt\n",
    "pd.options.display.max_columns = 999"
   ]
  },
  {
   "cell_type": "code",
   "execution_count": 2,
   "id": "86ed5c67-366e-475d-b932-658774aafef1",
   "metadata": {},
   "outputs": [],
   "source": [
    "df = pd.read_csv('./Data/ucsb_stats.csv')"
   ]
  },
  {
   "cell_type": "code",
   "execution_count": 4,
   "id": "c64a23a6-27d9-4258-8ba6-55df5cb70e55",
   "metadata": {},
   "outputs": [
    {
     "data": {
      "text/plain": [
       "Unnamed: 0      int64\n",
       "Date           object\n",
       "OPP            object\n",
       "Result         object\n",
       "MIN           float64\n",
       "FG             object\n",
       "FG%           float64\n",
       "3PT            object\n",
       "3P%           float64\n",
       "FT             object\n",
       "FT%           float64\n",
       "REB           float64\n",
       "AST           float64\n",
       "BLK           float64\n",
       "STL           float64\n",
       "PF            float64\n",
       "TO            float64\n",
       "PTS           float64\n",
       "Player         object\n",
       "dtype: object"
      ]
     },
     "execution_count": 4,
     "metadata": {},
     "output_type": "execute_result"
    }
   ],
   "source": [
    "df.dtypes"
   ]
  },
  {
   "cell_type": "code",
   "execution_count": 5,
   "id": "f9ab6808-b205-4490-9a1c-8e96ed3ebfe6",
   "metadata": {},
   "outputs": [
    {
     "data": {
      "text/plain": [
       "Index(['Unnamed: 0', 'Date', 'OPP', 'Result', 'MIN', 'FG', 'FG%', '3PT', '3P%',\n",
       "       'FT', 'FT%', 'REB', 'AST', 'BLK', 'STL', 'PF', 'TO', 'PTS', 'Player'],\n",
       "      dtype='object')"
      ]
     },
     "execution_count": 5,
     "metadata": {},
     "output_type": "execute_result"
    }
   ],
   "source": [
    "df.columns"
   ]
  },
  {
   "cell_type": "code",
   "execution_count": 6,
   "id": "cc54dd9f-6da5-4f2e-b6d9-8e852d3eb8e5",
   "metadata": {},
   "outputs": [],
   "source": [
    "cols = ['Player', 'Date', 'OPP', 'Result', 'MIN', 'FG', 'FG%', '3PT', '3P%',\n",
    "       'FT', 'FT%', 'REB', 'AST', 'BLK', 'STL', 'PF', 'TO', 'PTS']"
   ]
  },
  {
   "cell_type": "code",
   "execution_count": 10,
   "id": "5e315fc1-cb0d-4a3c-afcb-af7a99c1178d",
   "metadata": {},
   "outputs": [],
   "source": [
    "df = df[cols] #reorder so that player column is first"
   ]
  },
  {
   "cell_type": "code",
   "execution_count": 9,
   "id": "6e7c7caa-1e99-41b3-b795-165caf61165b",
   "metadata": {},
   "outputs": [
    {
     "data": {
      "text/html": [
       "<div>\n",
       "<style scoped>\n",
       "    .dataframe tbody tr th:only-of-type {\n",
       "        vertical-align: middle;\n",
       "    }\n",
       "\n",
       "    .dataframe tbody tr th {\n",
       "        vertical-align: top;\n",
       "    }\n",
       "\n",
       "    .dataframe thead th {\n",
       "        text-align: right;\n",
       "    }\n",
       "</style>\n",
       "<table border=\"1\" class=\"dataframe\">\n",
       "  <thead>\n",
       "    <tr style=\"text-align: right;\">\n",
       "      <th></th>\n",
       "      <th>Player</th>\n",
       "      <th>Date</th>\n",
       "      <th>OPP</th>\n",
       "      <th>Result</th>\n",
       "      <th>MIN</th>\n",
       "      <th>FG</th>\n",
       "      <th>FG%</th>\n",
       "      <th>3PT</th>\n",
       "      <th>3P%</th>\n",
       "      <th>FT</th>\n",
       "      <th>FT%</th>\n",
       "      <th>REB</th>\n",
       "      <th>AST</th>\n",
       "      <th>BLK</th>\n",
       "      <th>STL</th>\n",
       "      <th>PF</th>\n",
       "      <th>TO</th>\n",
       "      <th>PTS</th>\n",
       "    </tr>\n",
       "  </thead>\n",
       "  <tbody>\n",
       "    <tr>\n",
       "      <th>0</th>\n",
       "      <td>ajare-sanni</td>\n",
       "      <td>Fri 3/11</td>\n",
       "      <td>vsLBSU</td>\n",
       "      <td>L67-64</td>\n",
       "      <td>37.0</td>\n",
       "      <td>5-14</td>\n",
       "      <td>35.7</td>\n",
       "      <td>2-6</td>\n",
       "      <td>33.3</td>\n",
       "      <td>3-3</td>\n",
       "      <td>100.0</td>\n",
       "      <td>3.0</td>\n",
       "      <td>6.0</td>\n",
       "      <td>0.0</td>\n",
       "      <td>1.0</td>\n",
       "      <td>1.0</td>\n",
       "      <td>2.0</td>\n",
       "      <td>15.0</td>\n",
       "    </tr>\n",
       "    <tr>\n",
       "      <th>1</th>\n",
       "      <td>ajare-sanni</td>\n",
       "      <td>Thu 3/10</td>\n",
       "      <td>vsUCI</td>\n",
       "      <td>W78-69</td>\n",
       "      <td>27.0</td>\n",
       "      <td>6-8</td>\n",
       "      <td>75.0</td>\n",
       "      <td>4-4</td>\n",
       "      <td>100.0</td>\n",
       "      <td>4-4</td>\n",
       "      <td>100.0</td>\n",
       "      <td>2.0</td>\n",
       "      <td>2.0</td>\n",
       "      <td>0.0</td>\n",
       "      <td>1.0</td>\n",
       "      <td>2.0</td>\n",
       "      <td>3.0</td>\n",
       "      <td>20.0</td>\n",
       "    </tr>\n",
       "    <tr>\n",
       "      <th>2</th>\n",
       "      <td>ajare-sanni</td>\n",
       "      <td>Thu 3/3</td>\n",
       "      <td>vsHAW</td>\n",
       "      <td>W67-60</td>\n",
       "      <td>24.0</td>\n",
       "      <td>2-6</td>\n",
       "      <td>33.3</td>\n",
       "      <td>1-4</td>\n",
       "      <td>25.0</td>\n",
       "      <td>2-2</td>\n",
       "      <td>100.0</td>\n",
       "      <td>3.0</td>\n",
       "      <td>3.0</td>\n",
       "      <td>0.0</td>\n",
       "      <td>1.0</td>\n",
       "      <td>2.0</td>\n",
       "      <td>1.0</td>\n",
       "      <td>7.0</td>\n",
       "    </tr>\n",
       "    <tr>\n",
       "      <th>3</th>\n",
       "      <td>ajare-sanni</td>\n",
       "      <td>Tue 3/1</td>\n",
       "      <td>vsCSUN</td>\n",
       "      <td>W70-61</td>\n",
       "      <td>20.0</td>\n",
       "      <td>2-5</td>\n",
       "      <td>40.0</td>\n",
       "      <td>2-2</td>\n",
       "      <td>100.0</td>\n",
       "      <td>2-2</td>\n",
       "      <td>100.0</td>\n",
       "      <td>1.0</td>\n",
       "      <td>2.0</td>\n",
       "      <td>0.0</td>\n",
       "      <td>0.0</td>\n",
       "      <td>2.0</td>\n",
       "      <td>1.0</td>\n",
       "      <td>8.0</td>\n",
       "    </tr>\n",
       "    <tr>\n",
       "      <th>4</th>\n",
       "      <td>ajare-sanni</td>\n",
       "      <td>Sat 2/26</td>\n",
       "      <td>@UCR</td>\n",
       "      <td>W97-90 2OT</td>\n",
       "      <td>27.0</td>\n",
       "      <td>3-7</td>\n",
       "      <td>42.9</td>\n",
       "      <td>2-4</td>\n",
       "      <td>50.0</td>\n",
       "      <td>1-2</td>\n",
       "      <td>50.0</td>\n",
       "      <td>3.0</td>\n",
       "      <td>3.0</td>\n",
       "      <td>0.0</td>\n",
       "      <td>0.0</td>\n",
       "      <td>3.0</td>\n",
       "      <td>1.0</td>\n",
       "      <td>9.0</td>\n",
       "    </tr>\n",
       "  </tbody>\n",
       "</table>\n",
       "</div>"
      ],
      "text/plain": [
       "        Player      Date     OPP      Result   MIN    FG   FG%  3PT    3P%  \\\n",
       "0  ajare-sanni  Fri 3/11  vsLBSU      L67-64  37.0  5-14  35.7  2-6   33.3   \n",
       "1  ajare-sanni  Thu 3/10   vsUCI      W78-69  27.0   6-8  75.0  4-4  100.0   \n",
       "2  ajare-sanni   Thu 3/3   vsHAW      W67-60  24.0   2-6  33.3  1-4   25.0   \n",
       "3  ajare-sanni   Tue 3/1  vsCSUN      W70-61  20.0   2-5  40.0  2-2  100.0   \n",
       "4  ajare-sanni  Sat 2/26    @UCR  W97-90 2OT  27.0   3-7  42.9  2-4   50.0   \n",
       "\n",
       "    FT    FT%  REB  AST  BLK  STL   PF   TO   PTS  \n",
       "0  3-3  100.0  3.0  6.0  0.0  1.0  1.0  2.0  15.0  \n",
       "1  4-4  100.0  2.0  2.0  0.0  1.0  2.0  3.0  20.0  \n",
       "2  2-2  100.0  3.0  3.0  0.0  1.0  2.0  1.0   7.0  \n",
       "3  2-2  100.0  1.0  2.0  0.0  0.0  2.0  1.0   8.0  \n",
       "4  1-2   50.0  3.0  3.0  0.0  0.0  3.0  1.0   9.0  "
      ]
     },
     "execution_count": 9,
     "metadata": {},
     "output_type": "execute_result"
    }
   ],
   "source": [
    "df.head()"
   ]
  }
 ],
 "metadata": {
  "kernelspec": {
   "display_name": "Python 3 (ipykernel)",
   "language": "python",
   "name": "python3"
  },
  "language_info": {
   "codemirror_mode": {
    "name": "ipython",
    "version": 3
   },
   "file_extension": ".py",
   "mimetype": "text/x-python",
   "name": "python",
   "nbconvert_exporter": "python",
   "pygments_lexer": "ipython3",
   "version": "3.9.7"
  }
 },
 "nbformat": 4,
 "nbformat_minor": 5
}
