{
 "cells": [
  {
   "cell_type": "code",
   "execution_count": 1,
   "id": "37aa4435-6ac7-4e57-931d-9224bc2b547f",
   "metadata": {},
   "outputs": [],
   "source": [
    "import pandas as pd\n",
    "import matplotlib.pyplot as plt\n",
    "import glob\n",
    "import os"
   ]
  },
  {
   "cell_type": "code",
   "execution_count": 2,
   "id": "592fa7aa-7477-474f-9bad-a5b7fd78646b",
   "metadata": {},
   "outputs": [
    {
     "data": {
      "text/plain": [
       "['./Data/cbb_traditional/.ipynb_checkpoints',\n",
       " './Data/cbb_traditional/calpoly_traditional.csv',\n",
       " './Data/cbb_traditional/csun_traditional.csv',\n",
       " './Data/cbb_traditional/csu_bakersifield_traditional.csv',\n",
       " './Data/cbb_traditional/fullerton_traditional.csv',\n",
       " './Data/cbb_traditional/hawaii_traditional.csv',\n",
       " './Data/cbb_traditional/long_beach_traditional.csv',\n",
       " './Data/cbb_traditional/ucdavis_traditional.csv',\n",
       " './Data/cbb_traditional/ucirvine_traditional.csv',\n",
       " './Data/cbb_traditional/ucriverside_traditional.csv',\n",
       " './Data/cbb_traditional/ucsb_traditional.csv',\n",
       " './Data/cbb_traditional/ucsd_traditional.csv']"
      ]
     },
     "execution_count": 2,
     "metadata": {},
     "output_type": "execute_result"
    }
   ],
   "source": [
    "folder_files = os.listdir('Data/cbb_traditional/') \n",
    "file_list = []\n",
    "for name in folder_files:\n",
    "    file_list.append(f'./Data/cbb_traditional/{name[:]}')\n",
    "file_list "
   ]
  },
  {
   "cell_type": "code",
   "execution_count": 3,
   "id": "b962d481-8c9a-47e5-b3e6-91e44747a49a",
   "metadata": {},
   "outputs": [
    {
     "name": "stdout",
     "output_type": "stream",
     "text": [
      "calpoly (12, 270)\n",
      "csun (12, 270)\n",
      "csu (12, 270)\n",
      "fullerton (12, 270)\n",
      "hawaii (12, 270)\n",
      "long (12, 270)\n",
      "ucdavis (12, 270)\n",
      "ucirvine (12, 270)\n",
      "ucriverside (12, 270)\n",
      "ucsb (12, 270)\n",
      "ucsd (12, 270)\n"
     ]
    },
    {
     "name": "stderr",
     "output_type": "stream",
     "text": [
      "C:\\Users\\aorfa\\AppData\\Local\\Temp/ipykernel_10060/3340290007.py:19: FutureWarning: As the xlwt package is no longer maintained, the xlwt engine will be removed in a future version of pandas. This is the only engine in pandas that supports writing in the xls format. Install openpyxl and write to an xlsx file instead. You can set the option io.excel.xls.writer to 'xlwt' to silence this warning. While this option is deprecated and will also raise a warning, it can be globally set and the warning suppressed.\n",
      "  df_fouls.to_excel(f'./Data/fouls_drawn/big_west_fouls_drawn.xls')\n"
     ]
    }
   ],
   "source": [
    "list_dfs = []\n",
    "for file in file_list[1:]:\n",
    "    #print(file)\n",
    "    df = pd.read_csv(file)\n",
    "    team = file.split('/')[3].split('_')[0]\n",
    "    df['team'] = team\n",
    "    print(team, df.shape)\n",
    "    df = df[['fullName','position','team','pfP40', 'pfP40Pctile', 'pfdP40', 'pfdP40Pctile']]\n",
    "    df.rename(columns = {'fullName': 'Player',\n",
    "                    'pfP40':'Personal Fouls Per 40',\n",
    "                    'pfP40Pctile':'pfp40_percentile',\n",
    "                     'pfdP40': 'Personal Fouls Drawn per 40',\n",
    "                     'pfdP40Pctile': 'pfdp40_percentile'},\n",
    "                     inplace = True)\n",
    "    list_dfs.append(df)\n",
    "\n",
    "df_fouls = pd.concat(list_dfs)\n",
    "df_fouls.to_csv(f'./Data/fouls_drawn/big_west_fouls_drawn.csv')\n",
    "df_fouls.to_excel(f'./Data/fouls_drawn/big_west_fouls_drawn.xls')"
   ]
  },
  {
   "cell_type": "code",
   "execution_count": 4,
   "id": "7807b7a0-3337-44c3-aae7-5ab967c9b77a",
   "metadata": {},
   "outputs": [
    {
     "data": {
      "text/html": [
       "<div>\n",
       "<style scoped>\n",
       "    .dataframe tbody tr th:only-of-type {\n",
       "        vertical-align: middle;\n",
       "    }\n",
       "\n",
       "    .dataframe tbody tr th {\n",
       "        vertical-align: top;\n",
       "    }\n",
       "\n",
       "    .dataframe thead th {\n",
       "        text-align: right;\n",
       "    }\n",
       "</style>\n",
       "<table border=\"1\" class=\"dataframe\">\n",
       "  <thead>\n",
       "    <tr style=\"text-align: right;\">\n",
       "      <th></th>\n",
       "      <th>Player</th>\n",
       "      <th>position</th>\n",
       "      <th>team</th>\n",
       "      <th>Personal Fouls Per 40</th>\n",
       "      <th>pfp40_percentile</th>\n",
       "      <th>Personal Fouls Drawn per 40</th>\n",
       "      <th>pfdp40_percentile</th>\n",
       "    </tr>\n",
       "  </thead>\n",
       "  <tbody>\n",
       "    <tr>\n",
       "      <th>0</th>\n",
       "      <td>Camren Pierce</td>\n",
       "      <td>G</td>\n",
       "      <td>calpoly</td>\n",
       "      <td>4.04146</td>\n",
       "      <td>0.17</td>\n",
       "      <td>4.56447</td>\n",
       "      <td>0.91</td>\n",
       "    </tr>\n",
       "    <tr>\n",
       "      <th>1</th>\n",
       "      <td>Trevon Taylor</td>\n",
       "      <td>G</td>\n",
       "      <td>calpoly</td>\n",
       "      <td>3.23153</td>\n",
       "      <td>0.40</td>\n",
       "      <td>2.79087</td>\n",
       "      <td>0.55</td>\n",
       "    </tr>\n",
       "    <tr>\n",
       "      <th>2</th>\n",
       "      <td>Alimamy Koroma</td>\n",
       "      <td>F</td>\n",
       "      <td>calpoly</td>\n",
       "      <td>4.54770</td>\n",
       "      <td>0.38</td>\n",
       "      <td>6.09927</td>\n",
       "      <td>0.96</td>\n",
       "    </tr>\n",
       "    <tr>\n",
       "      <th>3</th>\n",
       "      <td>Brantly Stevenson</td>\n",
       "      <td>F</td>\n",
       "      <td>calpoly</td>\n",
       "      <td>3.20239</td>\n",
       "      <td>0.74</td>\n",
       "      <td>3.09383</td>\n",
       "      <td>0.45</td>\n",
       "    </tr>\n",
       "    <tr>\n",
       "      <th>4</th>\n",
       "      <td>Kobe Sanders</td>\n",
       "      <td>G</td>\n",
       "      <td>calpoly</td>\n",
       "      <td>4.68666</td>\n",
       "      <td>0.08</td>\n",
       "      <td>3.36478</td>\n",
       "      <td>0.72</td>\n",
       "    </tr>\n",
       "  </tbody>\n",
       "</table>\n",
       "</div>"
      ],
      "text/plain": [
       "              Player position     team  Personal Fouls Per 40  \\\n",
       "0      Camren Pierce        G  calpoly                4.04146   \n",
       "1      Trevon Taylor        G  calpoly                3.23153   \n",
       "2     Alimamy Koroma        F  calpoly                4.54770   \n",
       "3  Brantly Stevenson        F  calpoly                3.20239   \n",
       "4       Kobe Sanders        G  calpoly                4.68666   \n",
       "\n",
       "   pfp40_percentile  Personal Fouls Drawn per 40  pfdp40_percentile  \n",
       "0              0.17                      4.56447               0.91  \n",
       "1              0.40                      2.79087               0.55  \n",
       "2              0.38                      6.09927               0.96  \n",
       "3              0.74                      3.09383               0.45  \n",
       "4              0.08                      3.36478               0.72  "
      ]
     },
     "execution_count": 4,
     "metadata": {},
     "output_type": "execute_result"
    }
   ],
   "source": [
    "df_fouls.head()"
   ]
  },
  {
   "cell_type": "code",
   "execution_count": 5,
   "id": "819004f6-d458-41e7-b1d1-5b510f764cfd",
   "metadata": {},
   "outputs": [
    {
     "data": {
      "text/plain": [
       "(132, 7)"
      ]
     },
     "execution_count": 5,
     "metadata": {},
     "output_type": "execute_result"
    }
   ],
   "source": [
    "df_fouls.shape"
   ]
  },
  {
   "cell_type": "code",
   "execution_count": null,
   "id": "59e62c51-cf3e-47bc-b11e-14bf26a525fb",
   "metadata": {},
   "outputs": [],
   "source": []
  },
  {
   "cell_type": "code",
   "execution_count": null,
   "id": "1b582672-d8ca-46b0-9f19-0e7f7d46a644",
   "metadata": {},
   "outputs": [],
   "source": []
  }
 ],
 "metadata": {
  "kernelspec": {
   "display_name": "Python 3 (ipykernel)",
   "language": "python",
   "name": "python3"
  },
  "language_info": {
   "codemirror_mode": {
    "name": "ipython",
    "version": 3
   },
   "file_extension": ".py",
   "mimetype": "text/x-python",
   "name": "python",
   "nbconvert_exporter": "python",
   "pygments_lexer": "ipython3",
   "version": "3.9.7"
  }
 },
 "nbformat": 4,
 "nbformat_minor": 5
}
